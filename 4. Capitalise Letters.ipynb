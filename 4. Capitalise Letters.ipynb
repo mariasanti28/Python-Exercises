{
 "cells": [
  {
   "cell_type": "code",
   "execution_count": null,
   "id": "05a3fe60",
   "metadata": {},
   "outputs": [],
   "source": [
    "\"\"\"\n",
    "Create a function that capitalises the first letter of each word of a given string\n",
    "\n",
    "\"\"\"\n",
    "\n",
    "def Capitalise(string):\n",
    "    \n",
    "    return string.title()\n",
    "\n",
    "# Uncomment the text below to capitalise \"i love you!\"\n",
    "# s = \"i love you!\"\n",
    "# print(Capitalise(s))"
   ]
  }
 ],
 "metadata": {
  "kernelspec": {
   "display_name": "Python 3 (ipykernel)",
   "language": "python",
   "name": "python3"
  },
  "language_info": {
   "codemirror_mode": {
    "name": "ipython",
    "version": 3
   },
   "file_extension": ".py",
   "mimetype": "text/x-python",
   "name": "python",
   "nbconvert_exporter": "python",
   "pygments_lexer": "ipython3",
   "version": "3.10.9"
  }
 },
 "nbformat": 4,
 "nbformat_minor": 5
}
