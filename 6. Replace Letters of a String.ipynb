{
 "cells": [
  {
   "cell_type": "code",
   "execution_count": null,
   "id": "a49c9efd",
   "metadata": {
    "scrolled": true
   },
   "outputs": [],
   "source": [
    "\"\"\"\n",
    "Create a function that replaces every letter in a given string with the letter following it in the alphabet. \n",
    "Then, capitalise every vowel.\n",
    "\n",
    "\"\"\"\n",
    "\n",
    "def Change(string):\n",
    "    alphabet = \"abcdefghijklmnopqrstuvwxyz\"\n",
    "    vowels = \"aeiou\"\n",
    "    lower = string.lower() # convert input string to lowercase\n",
    "    new = \"\"\n",
    "\n",
    "    for letter in lower:\n",
    "        if letter == \"z\":\n",
    "            new += \"A\"\n",
    "        elif letter in alphabet:\n",
    "            letter_index = alphabet.index(letter)\n",
    "            if alphabet[(letter_index + 1)] in vowels:\n",
    "                vowel_set = alphabet[(letter_index + 1)]\n",
    "                new += vowel_set.upper()\n",
    "            else:\n",
    "                new += alphabet[(letter_index + 1)] \n",
    "        else:\n",
    "            new += letter # handle non-alphabetic characters\n",
    "\n",
    "    return new\n",
    "\n",
    "# Uncomment the text below to modify the string\n",
    "# s1 = \"Is Zack going to town?\"\n",
    "# print(Change(s1))\n",
    "\n",
    "\"\"\"\n",
    "Second method\n",
    "\"\"\"\n",
    "\n",
    "def Modify(s):\n",
    "    lookup = \"abcdefghijklmnopqrstuvwxyz\"\n",
    "    vowels_list = \"aeiou\"\n",
    "    new = \"\"\n",
    "    \n",
    "    for letter in s:\n",
    "        if letter.lower() in lookup:\n",
    "            let_index = (lookup.index(letter.lower()) + 1) % 26\n",
    "            new_letter = lookup[let_index]\n",
    "            if new_letter in vowels_list:\n",
    "                new += new_letter.upper()\n",
    "            else:\n",
    "                new += new_letter\n",
    "        else:\n",
    "            new += letter  # handle non-alphabetic characters\n",
    "    \n",
    "    return new\n",
    "\n",
    "# Example usage\n",
    "# s2 = \"Zack is going to town!\"\n",
    "# print(Modify(s2))"
   ]
  }
 ],
 "metadata": {
  "kernelspec": {
   "display_name": "Python 3 (ipykernel)",
   "language": "python",
   "name": "python3"
  },
  "language_info": {
   "codemirror_mode": {
    "name": "ipython",
    "version": 3
   },
   "file_extension": ".py",
   "mimetype": "text/x-python",
   "name": "python",
   "nbconvert_exporter": "python",
   "pygments_lexer": "ipython3",
   "version": "3.10.9"
  }
 },
 "nbformat": 4,
 "nbformat_minor": 5
}
