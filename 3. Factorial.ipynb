{
 "cells": [
  {
   "cell_type": "code",
   "execution_count": null,
   "id": "6ae16ac6",
   "metadata": {},
   "outputs": [],
   "source": [
    "\"\"\"\n",
    "Create a function that returns the factorial of the input number.\n",
    "\n",
    "\"\"\"\n",
    "def Factorial(number):\n",
    "    #set initial count and factorial\n",
    "    count = 1\n",
    "    factorial = 1\n",
    "    \n",
    "    while (count <= number):\n",
    "        factorial = factorial * count\n",
    "        count += 1\n",
    "        \n",
    "    return factorial\n",
    "\n",
    "\n",
    "# Call the function Factorial(number) to calculate the factorial of a number\n",
    "\n",
    "# Example: Uncomment the text below to calculate 5!:\n",
    "\n",
    "# factorial5 = Factorial(5)\n",
    "# print(factorial5)"
   ]
  }
 ],
 "metadata": {
  "kernelspec": {
   "display_name": "Python 3 (ipykernel)",
   "language": "python",
   "name": "python3"
  },
  "language_info": {
   "codemirror_mode": {
    "name": "ipython",
    "version": 3
   },
   "file_extension": ".py",
   "mimetype": "text/x-python",
   "name": "python",
   "nbconvert_exporter": "python",
   "pygments_lexer": "ipython3",
   "version": "3.10.9"
  }
 },
 "nbformat": 4,
 "nbformat_minor": 5
}
