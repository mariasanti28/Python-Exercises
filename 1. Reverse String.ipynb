{
 "cells": [
  {
   "cell_type": "code",
   "execution_count": null,
   "id": "d4050d67",
   "metadata": {},
   "outputs": [],
   "source": [
    "\"\"\"\n",
    "Create a function that takes string arguments and returns the string in reverse\n",
    "\n",
    "\"\"\"\n",
    "\n",
    "def Reverse(string):\n",
    "    count = len(string)\n",
    "    reverse = []\n",
    "    \n",
    "    while count > 0:\n",
    "        reverse.append(string[count - 1])\n",
    "        count -= 1\n",
    "        \n",
    "    return \"\".join(reverse)\n",
    "\n",
    "# Ucomment the text below to reverse \"Hello World!\"\n",
    "# rev1 = Reverse(\"Hello World!\")\n",
    "# print(rev1)\n",
    "\n",
    "\"\"\"\n",
    "***There is a much easier way to do this!\n",
    "\"\"\"\n",
    "\n",
    "def Reverse_easy(s):\n",
    "    return s[::-1]\n",
    "\n",
    "# Uncomment the text below to reverse the following string:\n",
    "# rev2 = Reverse_easy(\"That's one small step for man, one giant leap for mankind.\")\n",
    "# print(rev2)"
   ]
  }
 ],
 "metadata": {
  "kernelspec": {
   "display_name": "Python 3 (ipykernel)",
   "language": "python",
   "name": "python3"
  },
  "language_info": {
   "codemirror_mode": {
    "name": "ipython",
    "version": 3
   },
   "file_extension": ".py",
   "mimetype": "text/x-python",
   "name": "python",
   "nbconvert_exporter": "python",
   "pygments_lexer": "ipython3",
   "version": "3.10.9"
  }
 },
 "nbformat": 4,
 "nbformat_minor": 5
}
