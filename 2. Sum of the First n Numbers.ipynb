{
 "cells": [
  {
   "cell_type": "code",
   "execution_count": null,
   "id": "02d00c56",
   "metadata": {},
   "outputs": [],
   "source": [
    "\"\"\"\n",
    "Create a function that produces the sum of the first n natural numbers (i.e. add all numbers from 1 to n (inclusive)).\n",
    "\n",
    "\"\"\"\n",
    "\n",
    "def Total(n):\n",
    "    n = int(n) # ensure the input is an integer\n",
    "    total = 0\n",
    "    \n",
    "    for i in range(1, n + 1):\n",
    "        total += i\n",
    "        \n",
    "    return total\n",
    "\n",
    "# Uncomment the text below to calculate the sum up to 15\n",
    "# num1 = 15\n",
    "# print(Total(num1))\n",
    "\n",
    "\"\"\"\n",
    "There is a straightforward way to do this! We can use the formula for the sum of the first n natural numbers: [n * (1 + n)] / 2\n",
    "\"\"\"\n",
    "def Sum_formula(num):\n",
    "    num = int(num) # ensure the input is an integer\n",
    "    num = (num * (1 + num)) // 2\n",
    "    \n",
    "    return num\n",
    "\n",
    "# Uncomment the text below to calculate the sum up to 100\n",
    "# num2 = 100\n",
    "# print(Sum_formula(num2))"
   ]
  }
 ],
 "metadata": {
  "kernelspec": {
   "display_name": "Python 3 (ipykernel)",
   "language": "python",
   "name": "python3"
  },
  "language_info": {
   "codemirror_mode": {
    "name": "ipython",
    "version": 3
   },
   "file_extension": ".py",
   "mimetype": "text/x-python",
   "name": "python",
   "nbconvert_exporter": "python",
   "pygments_lexer": "ipython3",
   "version": "3.10.9"
  }
 },
 "nbformat": 4,
 "nbformat_minor": 5
}
