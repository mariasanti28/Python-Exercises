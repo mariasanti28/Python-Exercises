{
 "cells": [
  {
   "cell_type": "code",
   "execution_count": null,
   "id": "3340be17",
   "metadata": {},
   "outputs": [],
   "source": [
    "\"\"\"Create a function that returns True if the input number is a prime, and returns False if it is not.\n",
    "\n",
    "***SOS question***\n",
    "\"\"\"\n",
    "\n",
    "def Prime(num):\n",
    "    if num < 2:\n",
    "        return False\n",
    "    else:\n",
    "        for i in range(2, int(num ** 0.5) + 1):\n",
    "            if num % i == 0:\n",
    "                return False\n",
    "            \n",
    "    return True\n",
    "\n",
    "# Uncomment the text below to find out if 121 is a prime number:\n",
    "# n = 121\n",
    "# print(Prime(n))"
   ]
  }
 ],
 "metadata": {
  "kernelspec": {
   "display_name": "Python 3 (ipykernel)",
   "language": "python",
   "name": "python3"
  },
  "language_info": {
   "codemirror_mode": {
    "name": "ipython",
    "version": 3
   },
   "file_extension": ".py",
   "mimetype": "text/x-python",
   "name": "python",
   "nbconvert_exporter": "python",
   "pygments_lexer": "ipython3",
   "version": "3.10.9"
  }
 },
 "nbformat": 4,
 "nbformat_minor": 5
}
